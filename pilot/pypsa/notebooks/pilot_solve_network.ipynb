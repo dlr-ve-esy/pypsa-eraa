{
 "cells": [
  {
   "cell_type": "code",
   "execution_count": null,
   "id": "03e08128-b627-4a67-a0f2-0568b72bcd85",
   "metadata": {},
   "outputs": [],
   "source": []
  },
  {
   "cell_type": "code",
   "execution_count": null,
   "id": "b2b6c12c-550e-4ef4-9476-05be693f2d49",
   "metadata": {},
   "outputs": [],
   "source": [
    "n_clustered.optimize(n_clustered.snapshots[:(7*24)])"
   ]
  },
  {
   "cell_type": "code",
   "execution_count": null,
   "id": "ee82f2ab-7aca-40a2-aba9-e9f2b88c2271",
   "metadata": {},
   "outputs": [],
   "source": [
    "n_clustered.export_to_netcdf('networks/test_solved.nc')"
   ]
  }
 ],
 "metadata": {
  "kernelspec": {
   "display_name": "Python 3 (ipykernel)",
   "language": "python",
   "name": "python3"
  },
  "language_info": {
   "codemirror_mode": {
    "name": "ipython",
    "version": 3
   },
   "file_extension": ".py",
   "mimetype": "text/x-python",
   "name": "python",
   "nbconvert_exporter": "python",
   "pygments_lexer": "ipython3",
   "version": "3.11.3"
  }
 },
 "nbformat": 4,
 "nbformat_minor": 5
}
