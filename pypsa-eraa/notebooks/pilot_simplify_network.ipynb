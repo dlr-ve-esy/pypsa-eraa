{
 "cells": [
  {
   "cell_type": "code",
   "execution_count": 15,
   "metadata": {},
   "outputs": [],
   "source": [
    "import pandas as pd\n",
    "import matplotlib.pyplot as plt\n",
    "import numpy as np\n",
    "import cartopy.crs as ccrs\n",
    "import matplotlib as mpl\n",
    "import pypsa\n",
    "import glob\n",
    "import yaml\n",
    "\n",
    "from pypsa.networkclustering import get_clustering_from_busmap\n",
    "from pypsa.descriptors import get_switchable_as_dense as get_as_dense\n",
    "from matplotlib.animation import FuncAnimation"
   ]
  },
  {
   "cell_type": "code",
   "execution_count": 16,
   "metadata": {},
   "outputs": [],
   "source": [
    "with open('../config.yaml', 'r') as configfile:\n",
    "    config = yaml.safe_load(configfile)"
   ]
  },
  {
   "cell_type": "code",
   "execution_count": 17,
   "metadata": {},
   "outputs": [],
   "source": [
    "### config to be put in config.yaml\n",
    "\n",
    "TY = config['scenario']['target_years'][0]\n",
    "\n",
    "simulation_year = config['scenario']['simulation_years'][0]\n",
    "\n",
    "scenario = f'National estimates {TY}'\n",
    "\n",
    "network_f = f'../networks/pilot_elec-vre_TY{TY}_{simulation_year}.nc'"
   ]
  },
  {
   "cell_type": "code",
   "execution_count": 18,
   "metadata": {},
   "outputs": [],
   "source": [
    "def aggregate_links(network, remove_zero_capacity_links=False):\n",
    "    links_list = network.links.index\n",
    "    p_max_pu = get_as_dense(network, 'Link', 'p_max_pu', network.snapshots)\n",
    "    p_min_pu = get_as_dense(network, 'Link', 'p_min_pu', network.snapshots)\n",
    "    new_p_min_pu = pd.DataFrame()\n",
    "    new_p_max_pu = pd.DataFrame()\n",
    "    new_p_nom = pd.Series()\n",
    "    droplinks = []\n",
    "    for link in links_list:\n",
    "\n",
    "        if link in droplinks: continue\n",
    "        \n",
    "        bus0, bus1 = network.links.loc[link, ['bus0', 'bus1']]\n",
    "        forward_p_max_pu = p_max_pu[link]\n",
    "        bidirectional = p_min_pu[link].min() < 0.\n",
    "        if not bidirectional:\n",
    "            try:\n",
    "                reverse_direction_link = network.links.index[(network.links.bus0==bus1) & (network.links.bus1==bus0)][0]\n",
    "            except:\n",
    "                print(f'Warning: Link {link} is not bidirectional but seems not to have a reverse direction link neither...')\n",
    "                continue\n",
    "                \n",
    "            reverse_p_max_pu = p_max_pu[reverse_direction_link]\n",
    "            p_nom = np.max([network.links.p_nom[link], network.links.p_nom[reverse_direction_link]])\n",
    "\n",
    "            new_p_max_pu[link] = forward_p_max_pu.mul(network.links.p_nom[link]) / p_nom\n",
    "            new_p_min_pu[link] = -reverse_p_max_pu.mul(network.links.p_nom[reverse_direction_link]) / p_nom\n",
    "            new_p_nom[link] = p_nom\n",
    "            droplinks.append(reverse_direction_link)\n",
    "\n",
    "            if (remove_zero_capacity_links) & (p_nom == 0.):\n",
    "                print('yes')\n",
    "                droplinks.append(link)\n",
    "                new_p_min_pu.drop(link, inplace=True)\n",
    "                new_p_max_pu.drop(link, inplace=True)\n",
    "\n",
    "    return((droplinks, new_p_nom, new_p_max_pu, new_p_min_pu))"
   ]
  },
  {
   "cell_type": "code",
   "execution_count": 19,
   "metadata": {},
   "outputs": [
    {
     "name": "stderr",
     "output_type": "stream",
     "text": [
      "INFO:pypsa.io:Imported network pilot_elec-vre_TY2030_2000.nc has buses, carriers, generators, links, loads, storage_units\n"
     ]
    }
   ],
   "source": [
    "network = pypsa.Network(network_f)\n",
    "network.add('Line', name='dummy', bus0='DE00', bus1='NL00', s_nom=0) ### get_clustering_from_busmap throws an error without lines ... remove line after clustering"
   ]
  },
  {
   "cell_type": "code",
   "execution_count": 20,
   "metadata": {},
   "outputs": [
    {
     "name": "stdout",
     "output_type": "stream",
     "text": [
      "Warning: Link DE00-PLI0 HVAC is not bidirectional but seems not to have a reverse direction link neither...\n",
      "Warning: Link PLE0-DE00 HVAC is not bidirectional but seems not to have a reverse direction link neither...\n",
      "Warning: Link FR00-LUF1 HVAC is not bidirectional but seems not to have a reverse direction link neither...\n",
      "Warning: Link PLI0-PL00 HVAC is not bidirectional but seems not to have a reverse direction link neither...\n",
      "Warning: Link PL00-PLE0 HVAC is not bidirectional but seems not to have a reverse direction link neither...\n"
     ]
    }
   ],
   "source": [
    "### aggregate links\n",
    "droplinks, new_p_nom, new_p_max_pu, new_p_min_pu = aggregate_links(network, remove_zero_capacity_links=True)\n",
    "\n",
    "network.mremove('Link', droplinks)\n",
    "network.links_t.p_max_pu.loc[:,new_p_max_pu.columns] = new_p_max_pu\n",
    "network.links_t.p_min_pu.loc[:,new_p_min_pu.columns] = new_p_min_pu"
   ]
  },
  {
   "cell_type": "code",
   "execution_count": 21,
   "metadata": {},
   "outputs": [
    {
     "name": "stderr",
     "output_type": "stream",
     "text": [
      "WARNING:pypsa.io:Components Index(['DE00-DEKF HVAC', 'DKE1-DKW1 HVDC', 'ITCA-ITSI HVAC', 'ITCN-ITCS HVAC',\n",
      "       'ITCN-ITCS HVDC', 'ITCN-ITN1 HVAC', 'ITCN-ITSA HVDC', 'ITCS-ITCN HVDC',\n",
      "       'ITCS-ITS1 HVAC', 'ITCS-ITSA HVDC', 'ITCS-ITVI HVDC', 'ITS1-ITCA HVAC',\n",
      "       'ITSA-ITVI HVDC', 'ITVI-ITSI HVDC', 'NOM1-NON1 HVAC', 'SE02-SE03 HVAC',\n",
      "       'UKNI-UK00 HVDC'],\n",
      "      dtype='object', name='Link') for attribute p_min_pu of Link are not in main components dataframe links\n",
      "WARNING:pypsa.io:Components Index(['DE00-DEKF HVAC', 'DKE1-DKW1 HVDC', 'ITCA-ITSI HVAC', 'ITCN-ITCS HVAC',\n",
      "       'ITCN-ITCS HVDC', 'ITCN-ITN1 HVAC', 'ITCN-ITSA HVDC', 'ITCS-ITCN HVDC',\n",
      "       'ITCS-ITS1 HVAC', 'ITCS-ITSA HVDC', 'ITCS-ITVI HVDC', 'ITS1-ITCA HVAC',\n",
      "       'ITSA-ITVI HVDC', 'ITVI-ITSI HVDC', 'UKNI-UK00 HVDC'],\n",
      "      dtype='object', name='Link') for attribute p_max_pu of Link are not in main components dataframe links\n"
     ]
    }
   ],
   "source": [
    "busmap = {bus: bus[:2] for bus in network.buses.index}\n",
    "Clustering = get_clustering_from_busmap(network, busmap, with_time=True, aggregate_one_ports={'Generator', 'Load'})"
   ]
  },
  {
   "cell_type": "code",
   "execution_count": 22,
   "metadata": {},
   "outputs": [],
   "source": [
    "n_clustered = Clustering.network\n",
    "n_clustered.name = 'Simple DestinE Pilot with VRE profiles and hydro'\n",
    "#n_clustered.consistency_check()\n",
    "n_clustered.mremove('Line', n_clustered.lines.index)"
   ]
  },
  {
   "cell_type": "code",
   "execution_count": 23,
   "metadata": {},
   "outputs": [],
   "source": [
    "n_clustered.links_t.p_max_pu.drop(n_clustered.links_t.p_max_pu.columns[~n_clustered.links_t.p_max_pu.columns.isin(n_clustered.links.index)], axis=1, inplace=True)\n",
    "n_clustered.links_t.p_min_pu.drop(n_clustered.links_t.p_min_pu.columns[~n_clustered.links_t.p_min_pu.columns.isin(n_clustered.links.index)], axis=1, inplace=True)"
   ]
  },
  {
   "cell_type": "code",
   "execution_count": 24,
   "metadata": {},
   "outputs": [],
   "source": [
    "#n_clustered.export_to_netcdf(f'../networks/pilot_elec-vre-hydro_TY{TY}_{simulation_year}_simpl.nc')"
   ]
  },
  {
   "cell_type": "code",
   "execution_count": null,
   "metadata": {},
   "outputs": [],
   "source": []
  }
 ],
 "metadata": {
  "kernelspec": {
   "display_name": "Python 3 (ipykernel)",
   "language": "python",
   "name": "python3"
  },
  "language_info": {
   "codemirror_mode": {
    "name": "ipython",
    "version": 3
   },
   "file_extension": ".py",
   "mimetype": "text/x-python",
   "name": "python",
   "nbconvert_exporter": "python",
   "pygments_lexer": "ipython3",
   "version": "3.11.3"
  }
 },
 "nbformat": 4,
 "nbformat_minor": 4
}
